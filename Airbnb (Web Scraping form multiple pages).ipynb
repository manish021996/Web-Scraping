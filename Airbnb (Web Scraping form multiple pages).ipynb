{
 "cells": [
  {
   "cell_type": "code",
   "execution_count": 1,
   "id": "00d60f80",
   "metadata": {},
   "outputs": [],
   "source": [
    "import requests\n",
    "import pandas as pd\n",
    "from bs4 import BeautifulSoup"
   ]
  },
  {
   "cell_type": "code",
   "execution_count": 2,
   "id": "929f2b8f",
   "metadata": {},
   "outputs": [],
   "source": [
    "url = 'https://www.airbnb.co.in/s/New-Delhi--India/homes?adults=1&place_id=ChIJLbZ-NFv9DDkRzk0gTkm3wlI&refinement_paths%5B%5D=%2Fhomes&tab_id=home_tab&query=New%20Delhi%2C%20India&flexible_trip_lengths%5B%5D=one_week&monthly_start_date=2023-12-01&monthly_length=3&price_filter_input_type=0&price_filter_num_nights=5&channel=EXPLORE&search_type=unknown&federated_search_session_id=f3884828-eeb9-4adf-8340-ba7f3ba163d7&pagination_search=true&cursor=eyJzZWN0aW9uX29mZnNldCI6MCwiaXRlbXNfb2Zmc2V0IjowLCJ2ZXJzaW9uIjoxfQ%3D%3D'"
   ]
  },
  {
   "cell_type": "code",
   "execution_count": 3,
   "id": "d3c31757",
   "metadata": {},
   "outputs": [],
   "source": [
    "response = requests.get(url)"
   ]
  },
  {
   "cell_type": "code",
   "execution_count": 4,
   "id": "af571244",
   "metadata": {},
   "outputs": [],
   "source": [
    "soup = BeautifulSoup(response.text,'html.parser')"
   ]
  },
  {
   "cell_type": "code",
   "execution_count": 5,
   "id": "c6dedb8c",
   "metadata": {},
   "outputs": [],
   "source": [
    "name_list = []\n",
    "\n",
    "name = soup.find_all('div', class_ = 't1jojoys dir dir-ltr')\n",
    "\n",
    "for i in name:\n",
    "    name_list.append(i.text)"
   ]
  },
  {
   "cell_type": "code",
   "execution_count": 6,
   "id": "865036c6",
   "metadata": {},
   "outputs": [],
   "source": [
    "price_list = []\n",
    "\n",
    "price = soup.find_all('div', class_ = '_1jo4hgw')\n",
    "\n",
    "for i in price:\n",
    "    price_list.append(i.text.replace('\\xa0',' /'))"
   ]
  },
  {
   "cell_type": "code",
   "execution_count": 7,
   "id": "5fb95c29",
   "metadata": {},
   "outputs": [],
   "source": [
    "desc_list = []\n",
    "\n",
    "desc = soup.find_all('span', class_ = 't6mzqp7 dir dir-ltr')\n",
    "\n",
    "for i in desc:\n",
    "    desc_list.append(i.text)"
   ]
  },
  {
   "cell_type": "code",
   "execution_count": 8,
   "id": "a50c9d51",
   "metadata": {},
   "outputs": [],
   "source": [
    "rating_list = []\n",
    "\n",
    "rating = soup.find_all('span', class_ = 'r1dxllyb dir dir-ltr')\n",
    "\n",
    "for i in rating:\n",
    "    rating_list.append(i.text)"
   ]
  },
  {
   "cell_type": "code",
   "execution_count": 9,
   "id": "58b97db1",
   "metadata": {},
   "outputs": [],
   "source": [
    "for i in range(1,10):\n",
    "    np = 'https://www.airbnb.co.in' + soup.find('a', class_ = 'l1ovpqvx c1ytbx3a dir dir-ltr').get('href')\n",
    "    \n",
    "    r = requests.get(np)\n",
    "    soup = BeautifulSoup(r.text, 'html.parser')\n",
    "    \n",
    "    name = soup.find_all('div', class_ = 't1jojoys dir dir-ltr')\n",
    "\n",
    "    for i in name:\n",
    "        name_list.append(i.text)\n",
    "        \n",
    "    price = soup.find_all('div', class_ = '_1jo4hgw')\n",
    "\n",
    "    for i in price:\n",
    "        price_list.append(i.text.replace('\\xa0',' /'))\n",
    "    \n",
    "    desc = soup.find_all('span', class_ = 't6mzqp7 dir dir-ltr')\n",
    "\n",
    "    for i in desc:\n",
    "        desc_list.append(i.text)\n",
    "    \n",
    "    rating = soup.find_all('span', class_ = 'r1dxllyb dir dir-ltr')\n",
    "\n",
    "    for i in rating:\n",
    "        rating_list.append(i.text)"
   ]
  },
  {
   "cell_type": "code",
   "execution_count": 10,
   "id": "2f376bf9",
   "metadata": {},
   "outputs": [],
   "source": [
    "dict_ = {'Rooms Name':name_list, 'Description':desc_list,'Price':price_list,'Rating':rating_list}\n",
    "df = pd.DataFrame(dict_)"
   ]
  },
  {
   "cell_type": "code",
   "execution_count": 11,
   "id": "8e4aa0e7",
   "metadata": {},
   "outputs": [
    {
     "data": {
      "text/html": [
       "<div>\n",
       "<style scoped>\n",
       "    .dataframe tbody tr th:only-of-type {\n",
       "        vertical-align: middle;\n",
       "    }\n",
       "\n",
       "    .dataframe tbody tr th {\n",
       "        vertical-align: top;\n",
       "    }\n",
       "\n",
       "    .dataframe thead th {\n",
       "        text-align: right;\n",
       "    }\n",
       "</style>\n",
       "<table border=\"1\" class=\"dataframe\">\n",
       "  <thead>\n",
       "    <tr style=\"text-align: right;\">\n",
       "      <th></th>\n",
       "      <th>Rooms Name</th>\n",
       "      <th>Description</th>\n",
       "      <th>Price</th>\n",
       "      <th>Rating</th>\n",
       "    </tr>\n",
       "  </thead>\n",
       "  <tbody>\n",
       "    <tr>\n",
       "      <th>0</th>\n",
       "      <td>Room in New Delhi</td>\n",
       "      <td>Tiny: comfy small room, gk2!</td>\n",
       "      <td>₹1,614 /night</td>\n",
       "      <td>4.65 (17)</td>\n",
       "    </tr>\n",
       "    <tr>\n",
       "      <th>1</th>\n",
       "      <td>Place to stay in New Delhi</td>\n",
       "      <td>MOHANS-HOME AWAY FROM HOME</td>\n",
       "      <td>₹1,239 /night</td>\n",
       "      <td>4.86 (42)</td>\n",
       "    </tr>\n",
       "    <tr>\n",
       "      <th>2</th>\n",
       "      <td>Guest house in New Delhi</td>\n",
       "      <td>Vasant Kunj - A ROOM WITH A  VIEW ! and WHOLE ...</td>\n",
       "      <td>₹1,084 /night</td>\n",
       "      <td>4.79 (66)</td>\n",
       "    </tr>\n",
       "    <tr>\n",
       "      <th>3</th>\n",
       "      <td>Tiny home in New Delhi</td>\n",
       "      <td>Sunrise homes 2</td>\n",
       "      <td>₹1,849 /night</td>\n",
       "      <td>4.71 (41)</td>\n",
       "    </tr>\n",
       "    <tr>\n",
       "      <th>4</th>\n",
       "      <td>Flat in New Delhi</td>\n",
       "      <td>Diwan-E-Khas (3)</td>\n",
       "      <td>₹7,583 /night</td>\n",
       "      <td>New</td>\n",
       "    </tr>\n",
       "    <tr>\n",
       "      <th>...</th>\n",
       "      <td>...</td>\n",
       "      <td>...</td>\n",
       "      <td>...</td>\n",
       "      <td>...</td>\n",
       "    </tr>\n",
       "    <tr>\n",
       "      <th>175</th>\n",
       "      <td>Flat in Delhi</td>\n",
       "      <td>Homlee-Vintage 2BHK Apt with Park/Fort View</td>\n",
       "      <td>₹5,152 /night</td>\n",
       "      <td>New</td>\n",
       "    </tr>\n",
       "    <tr>\n",
       "      <th>176</th>\n",
       "      <td>Flat in New Delhi</td>\n",
       "      <td>Harphool Nivas @ Hauz Khas Village</td>\n",
       "      <td>₹5,135 /night</td>\n",
       "      <td>4.68 (25)</td>\n",
       "    </tr>\n",
       "    <tr>\n",
       "      <th>177</th>\n",
       "      <td>Place to stay in New Delhi</td>\n",
       "      <td>Room 1:-Beautiful room With terrace access</td>\n",
       "      <td>₹1,140 /night</td>\n",
       "      <td>4.54 (26)</td>\n",
       "    </tr>\n",
       "    <tr>\n",
       "      <th>178</th>\n",
       "      <td>Flat in New Delhi</td>\n",
       "      <td>Luxury Studio apartment for a romantic stay</td>\n",
       "      <td>₹2,988 /₹2,723 /night</td>\n",
       "      <td>4.78 (67)</td>\n",
       "    </tr>\n",
       "    <tr>\n",
       "      <th>179</th>\n",
       "      <td>Room in New Delhi</td>\n",
       "      <td>The Sunny Side</td>\n",
       "      <td>₹4,345 /night</td>\n",
       "      <td>4.94 (18)</td>\n",
       "    </tr>\n",
       "  </tbody>\n",
       "</table>\n",
       "<p>180 rows × 4 columns</p>\n",
       "</div>"
      ],
      "text/plain": [
       "                     Rooms Name  \\\n",
       "0             Room in New Delhi   \n",
       "1    Place to stay in New Delhi   \n",
       "2      Guest house in New Delhi   \n",
       "3        Tiny home in New Delhi   \n",
       "4             Flat in New Delhi   \n",
       "..                          ...   \n",
       "175               Flat in Delhi   \n",
       "176           Flat in New Delhi   \n",
       "177  Place to stay in New Delhi   \n",
       "178           Flat in New Delhi   \n",
       "179           Room in New Delhi   \n",
       "\n",
       "                                           Description                  Price  \\\n",
       "0                         Tiny: comfy small room, gk2!          ₹1,614 /night   \n",
       "1                           MOHANS-HOME AWAY FROM HOME          ₹1,239 /night   \n",
       "2    Vasant Kunj - A ROOM WITH A  VIEW ! and WHOLE ...          ₹1,084 /night   \n",
       "3                                      Sunrise homes 2          ₹1,849 /night   \n",
       "4                                     Diwan-E-Khas (3)          ₹7,583 /night   \n",
       "..                                                 ...                    ...   \n",
       "175        Homlee-Vintage 2BHK Apt with Park/Fort View          ₹5,152 /night   \n",
       "176                 Harphool Nivas @ Hauz Khas Village          ₹5,135 /night   \n",
       "177         Room 1:-Beautiful room With terrace access          ₹1,140 /night   \n",
       "178        Luxury Studio apartment for a romantic stay  ₹2,988 /₹2,723 /night   \n",
       "179                                     The Sunny Side          ₹4,345 /night   \n",
       "\n",
       "        Rating  \n",
       "0    4.65 (17)  \n",
       "1    4.86 (42)  \n",
       "2    4.79 (66)  \n",
       "3    4.71 (41)  \n",
       "4          New  \n",
       "..         ...  \n",
       "175        New  \n",
       "176  4.68 (25)  \n",
       "177  4.54 (26)  \n",
       "178  4.78 (67)  \n",
       "179  4.94 (18)  \n",
       "\n",
       "[180 rows x 4 columns]"
      ]
     },
     "execution_count": 11,
     "metadata": {},
     "output_type": "execute_result"
    }
   ],
   "source": [
    "df"
   ]
  },
  {
   "cell_type": "code",
   "execution_count": null,
   "id": "1260fd55",
   "metadata": {},
   "outputs": [],
   "source": []
  }
 ],
 "metadata": {
  "kernelspec": {
   "display_name": "Python 3 (ipykernel)",
   "language": "python",
   "name": "python3"
  },
  "language_info": {
   "codemirror_mode": {
    "name": "ipython",
    "version": 3
   },
   "file_extension": ".py",
   "mimetype": "text/x-python",
   "name": "python",
   "nbconvert_exporter": "python",
   "pygments_lexer": "ipython3",
   "version": "3.11.5"
  }
 },
 "nbformat": 4,
 "nbformat_minor": 5
}
